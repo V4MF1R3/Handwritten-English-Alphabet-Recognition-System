{
 "cells": [
  {
   "cell_type": "code",
   "execution_count": 14,
   "metadata": {},
   "outputs": [],
   "source": [
    "import pandas as pd\n",
    "import numpy as np\n",
    "import matplotlib.pyplot as plt\n",
    "import os\n",
    "from PIL import Image"
   ]
  },
  {
   "cell_type": "code",
   "execution_count": 2,
   "metadata": {},
   "outputs": [
    {
     "name": "stdout",
     "output_type": "stream",
     "text": [
      "<class 'pandas.core.frame.DataFrame'>\n",
      "RangeIndex: 372450 entries, 0 to 372449\n",
      "Columns: 785 entries, 0 to 0.648\n",
      "dtypes: int64(785)\n",
      "memory usage: 2.2 GB\n"
     ]
    }
   ],
   "source": [
    "df = pd.read_csv(\"A_Z Handwritten Data.csv\")\n",
    "df.info()"
   ]
  },
  {
   "cell_type": "code",
   "execution_count": 8,
   "metadata": {},
   "outputs": [],
   "source": [
    "# Creating dictionary of alphabets with indexes\n",
    "\n",
    "word_dict = { 0:'A',1:'B',2:'C',3:'D',4:'E',5:'F',6:'G',7:'H',8:'I',9:'J',10:'K',11:'L',12:'M',13:'N',14:'O',15:'P',16:'Q',17:'R',18:'S',19:'T',20:'U',21:'V',22:'W',23:'X', 24:'Y',25:'Z' }"
   ]
  },
  {
   "cell_type": "code",
   "execution_count": 21,
   "metadata": {},
   "outputs": [
    {
     "name": "stderr",
     "output_type": "stream",
     "text": [
      "C:\\Users\\pantv\\AppData\\Local\\Temp\\ipykernel_10016\\2032624638.py:9: FutureWarning: Series.__getitem__ treating keys as positions is deprecated. In a future version, integer keys will always be treated as labels (consistent with DataFrame behavior). To access a value by position, use `ser.iloc[pos]`\n",
      "  label, pixels = row[0], row[1:]\n"
     ]
    }
   ],
   "source": [
    "# converting CSV to image\n",
    "\n",
    "width, hight = 28, 28\n",
    "\n",
    "if not os.path.exists('images'):\n",
    "    os.makedirs('images')\n",
    "\n",
    "for index, row in df.iterrows():\n",
    "    label, pixels = row[0], row[1:]\n",
    "    \n",
    "    array = np.array(pixels, dtype=np.uint8)\n",
    "    pixels = array.reshape(28,28)\n",
    "    image = Image.fromarray(pixels)\n",
    "\n",
    "    if not os.path.exists(f'images\\{word_dict[label]}'):\n",
    "        os.makedirs(f'images\\{word_dict[label]}')\n",
    "\n",
    "    image.save(f'images\\{word_dict[label]}\\{index}.png')\n",
    "\n",
    "    "
   ]
  },
  {
   "cell_type": "code",
   "execution_count": 27,
   "metadata": {},
   "outputs": [
    {
     "data": {
      "image/jpeg": "[encoded data removed]",
      "image/png": "[encoded data removed]",
      "text/plain": [
       "<PIL.PngImagePlugin.PngImageFile image mode=L size=28x28>"
      ]
     },
     "metadata": {},
     "output_type": "display_data"
    }
   ],
   "source": [
    "# displaying an image for cross-validation\n",
    "from IPython.display import display\n",
    "\n",
    "img = Image.open(\"images/A/1.png\")\n",
    "display(img)"
   ]
  }
 ],
 "metadata": {
  "kernelspec": {
   "display_name": ".venv",
   "language": "python",
   "name": "python3"
  },
  "language_info": {
   "codemirror_mode": {
    "name": "ipython",
    "version": 3
   },
   "file_extension": ".py",
   "mimetype": "text/x-python",
   "name": "python",
   "nbconvert_exporter": "python",
   "pygments_lexer": "ipython3",
   "version": "3.11.4"
  }
 },
 "nbformat": 4,
 "nbformat_minor": 2
}
